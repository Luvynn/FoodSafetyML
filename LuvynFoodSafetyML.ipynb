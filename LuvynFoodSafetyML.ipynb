{
 "cells": [
  {
   "cell_type": "code",
   "execution_count": null,
   "metadata": {},
   "outputs": [],
   "source": []
  },
  {
   "cell_type": "markdown",
   "metadata": {},
   "source": [
    "Food Safety Index   \n"
   ]
  },
  {
   "cell_type": "code",
   "execution_count": 1,
   "metadata": {},
   "outputs": [],
   "source": [
    "import pandas as pd\n",
    "import numpy as np\n",
    "import matplotlib.pyplot as plt\n",
    "import seaborn as sns\n",
    "import plotly.express as px\n",
    "from sklearn.metrics import accuracy_score, confusion_matrix, classification_report\n",
    "from sklearn.tree import DecisionTreeClassifier\n",
    "from sklearn.metrics import r2_score\n",
    "from sklearn.metrics import mean_absolute_error, mean_squared_error\n",
    "from sklearn.preprocessing import LabelEncoder\n",
    "import scipy.stats as stats"
   ]
  },
  {
   "cell_type": "markdown",
   "metadata": {},
   "source": [
    "Exploratory Data Analysis"
   ]
  },
  {
   "cell_type": "markdown",
   "metadata": {},
   "source": [
    "Lets have a look at the World Hunger Index"
   ]
  },
  {
   "cell_type": "code",
   "execution_count": 17,
   "metadata": {},
   "outputs": [],
   "source": [
    "df_hunger_index = pd.read_csv(\"data/global-hunger-index.csv\")"
   ]
  },
  {
   "cell_type": "code",
   "execution_count": 18,
   "metadata": {},
   "outputs": [
    {
     "data": {
      "text/plain": [
       "<bound method NDFrame.describe of           Entity Code  Year   ghi  \\\n",
       "0    Afghanistan  AFG  2000  50.9   \n",
       "1    Afghanistan  AFG  2006  42.7   \n",
       "2    Afghanistan  AFG  2012  34.3   \n",
       "3    Afghanistan  AFG  2021  28.3   \n",
       "4        Albania  ALB  2000  20.7   \n",
       "..           ...  ...   ...   ...   \n",
       "466        Yemen  YEM  2006  38.8   \n",
       "467        Yemen  YEM  2012  38.4   \n",
       "468        Yemen  YEM  2021  45.1   \n",
       "469       Zambia  ZMB  2021  27.5   \n",
       "470     Zimbabwe  ZWE  2021  27.5   \n",
       "\n",
       "                                           annotations  \n",
       "0                                                  NaN  \n",
       "1                                                  NaN  \n",
       "2                                                  NaN  \n",
       "3                                                  NaN  \n",
       "4                                                  NaN  \n",
       "..                                                 ...  \n",
       "466                                                NaN  \n",
       "467                                                NaN  \n",
       "468                                                NaN  \n",
       "469  Value represents the mid-point of its group in...  \n",
       "470  Value represents the mid-point of its group in...  \n",
       "\n",
       "[471 rows x 5 columns]>"
      ]
     },
     "execution_count": 18,
     "metadata": {},
     "output_type": "execute_result"
    }
   ],
   "source": [
    "df_hunger_index.describe"
   ]
  },
  {
   "cell_type": "code",
   "execution_count": 20,
   "metadata": {},
   "outputs": [],
   "source": [
    "df_hunger_index_2021 = df_hunger_index[df_hunger_index[\"Year\"]==2021].drop('annotations', axis=1)"
   ]
  },
  {
   "cell_type": "code",
   "execution_count": 25,
   "metadata": {},
   "outputs": [],
   "source": [
    "df_hunger_index_2021.dropna(inplace=True)"
   ]
  },
  {
   "cell_type": "code",
   "execution_count": 120,
   "metadata": {},
   "outputs": [
    {
     "data": {
      "application/vnd.plotly.v1+json": {
       "config": {
        "plotlyServerURL": "https://plot.ly"
       },
       "data": [
        {
         "coloraxis": "coloraxis",
         "geo": "geo",
         "hovertemplate": "<b>%{hovertext}</b><br><br>Year=2021<br>Code=%{location}<br>ghi=%{z}<extra></extra>",
         "hovertext": [
          "Afghanistan",
          "Albania",
          "Algeria",
          "Angola",
          "Argentina",
          "Armenia",
          "Azerbaijan",
          "Bangladesh",
          "Belarus",
          "Benin",
          "Bolivia",
          "Bosnia and Herzegovina",
          "Botswana",
          "Brazil",
          "Bulgaria",
          "Burkina Faso",
          "Burundi",
          "Cambodia",
          "Cameroon",
          "Cape Verde",
          "Central African Republic",
          "Chad",
          "Chile",
          "China",
          "Colombia",
          "Comoros",
          "Congo",
          "Costa Rica",
          "Cote d'Ivoire",
          "Croatia",
          "Cuba",
          "Democratic Republic of Congo",
          "Djibouti",
          "Dominican Republic",
          "East Timor",
          "Ecuador",
          "Egypt",
          "El Salvador",
          "Estonia",
          "Eswatini",
          "Ethiopia",
          "Fiji",
          "Gabon",
          "Gambia",
          "Georgia",
          "Ghana",
          "Guatemala",
          "Guinea",
          "Guinea-Bissau",
          "Guyana",
          "Haiti",
          "Honduras",
          "India",
          "Indonesia",
          "Iran",
          "Iraq",
          "Jamaica",
          "Jordan",
          "Kazakhstan",
          "Kenya",
          "Kuwait",
          "Kyrgyzstan",
          "Laos",
          "Latvia",
          "Lebanon",
          "Lesotho",
          "Liberia",
          "Lithuania",
          "Madagascar",
          "Malawi",
          "Malaysia",
          "Mali",
          "Mauritania",
          "Mauritius",
          "Mexico",
          "Moldova",
          "Mongolia",
          "Montenegro",
          "Morocco",
          "Mozambique",
          "Myanmar",
          "Namibia",
          "Nepal",
          "Nicaragua",
          "Niger",
          "Nigeria",
          "North Korea",
          "North Macedonia",
          "Oman",
          "Pakistan",
          "Panama",
          "Papua New Guinea",
          "Paraguay",
          "Peru",
          "Philippines",
          "Romania",
          "Russia",
          "Rwanda",
          "Saudi Arabia",
          "Senegal",
          "Serbia",
          "Sierra Leone",
          "Slovakia",
          "Solomon Islands",
          "Somalia",
          "South Africa",
          "South Sudan",
          "Sri Lanka",
          "Sudan",
          "Suriname",
          "Syria",
          "Tajikistan",
          "Tanzania",
          "Thailand",
          "Togo",
          "Trinidad and Tobago",
          "Tunisia",
          "Turkey",
          "Turkmenistan",
          "Uganda",
          "Ukraine",
          "Uruguay",
          "Uzbekistan",
          "Venezuela",
          "Vietnam",
          "Yemen",
          "Zambia",
          "Zimbabwe"
         ],
         "locations": [
          "AFG",
          "ALB",
          "DZA",
          "AGO",
          "ARG",
          "ARM",
          "AZE",
          "BGD",
          "BLR",
          "BEN",
          "BOL",
          "BIH",
          "BWA",
          "BRA",
          "BGR",
          "BFA",
          "BDI",
          "KHM",
          "CMR",
          "CPV",
          "CAF",
          "TCD",
          "CHL",
          "CHN",
          "COL",
          "COM",
          "COG",
          "CRI",
          "CIV",
          "HRV",
          "CUB",
          "COD",
          "DJI",
          "DOM",
          "TLS",
          "ECU",
          "EGY",
          "SLV",
          "EST",
          "SWZ",
          "ETH",
          "FJI",
          "GAB",
          "GMB",
          "GEO",
          "GHA",
          "GTM",
          "GIN",
          "GNB",
          "GUY",
          "HTI",
          "HND",
          "IND",
          "IDN",
          "IRN",
          "IRQ",
          "JAM",
          "JOR",
          "KAZ",
          "KEN",
          "KWT",
          "KGZ",
          "LAO",
          "LVA",
          "LBN",
          "LSO",
          "LBR",
          "LTU",
          "MDG",
          "MWI",
          "MYS",
          "MLI",
          "MRT",
          "MUS",
          "MEX",
          "MDA",
          "MNG",
          "MNE",
          "MAR",
          "MOZ",
          "MMR",
          "NAM",
          "NPL",
          "NIC",
          "NER",
          "NGA",
          "PRK",
          "MKD",
          "OMN",
          "PAK",
          "PAN",
          "PNG",
          "PRY",
          "PER",
          "PHL",
          "ROU",
          "RUS",
          "RWA",
          "SAU",
          "SEN",
          "SRB",
          "SLE",
          "SVK",
          "SLB",
          "SOM",
          "ZAF",
          "SSD",
          "LKA",
          "SDN",
          "SUR",
          "SYR",
          "TJK",
          "TZA",
          "THA",
          "TGO",
          "TTO",
          "TUN",
          "TUR",
          "TKM",
          "UGA",
          "UKR",
          "URY",
          "UZB",
          "VEN",
          "VNM",
          "YEM",
          "ZMB",
          "ZWE"
         ],
         "name": "",
         "type": "choropleth",
         "z": [
          28.3,
          6.2,
          6.9,
          26,
          5.3,
          7.2,
          7.5,
          19.1,
          2.5,
          22.2,
          12.7,
          2.5,
          23.2,
          2.5,
          6.1,
          24.5,
          42.5,
          17,
          18.6,
          10.8,
          43,
          39.6,
          2.5,
          2.5,
          8.9,
          42.5,
          30.3,
          5.3,
          22.3,
          2.5,
          2.5,
          39,
          27.4,
          8,
          32.4,
          14,
          12.5,
          8.9,
          2.5,
          17,
          24.1,
          8.6,
          16.6,
          17.6,
          6.3,
          14.9,
          19.6,
          27.5,
          27.5,
          10.7,
          32.8,
          12.8,
          27.5,
          18,
          7.7,
          22.8,
          8.6,
          8.3,
          6.4,
          23,
          2.5,
          8.6,
          19.5,
          2.5,
          9.7,
          27.4,
          33.3,
          2.5,
          36.3,
          21.3,
          12.8,
          24.7,
          22.6,
          12.2,
          8.5,
          5,
          6.1,
          2.5,
          8.8,
          31.3,
          17.5,
          20.2,
          19.1,
          14,
          27.5,
          28.3,
          25.2,
          2.5,
          12.3,
          24.7,
          8.9,
          27.8,
          7.5,
          8,
          16.8,
          2.5,
          6.2,
          26.4,
          6.8,
          16.3,
          2.5,
          31.3,
          2.5,
          18.8,
          50.8,
          12.9,
          42.5,
          16,
          25.1,
          10.4,
          42.5,
          15,
          24.7,
          11.7,
          23.7,
          8.9,
          6,
          2.5,
          9.7,
          27.5,
          6.8,
          2.5,
          5.9,
          22.2,
          13.6,
          45.1,
          27.5,
          27.5
         ]
        }
       ],
       "layout": {
        "coloraxis": {
         "colorbar": {
          "title": {
           "text": "ghi"
          }
         },
         "colorscale": [
          [
           0,
           "#0d0887"
          ],
          [
           0.1111111111111111,
           "#46039f"
          ],
          [
           0.2222222222222222,
           "#7201a8"
          ],
          [
           0.3333333333333333,
           "#9c179e"
          ],
          [
           0.4444444444444444,
           "#bd3786"
          ],
          [
           0.5555555555555556,
           "#d8576b"
          ],
          [
           0.6666666666666666,
           "#ed7953"
          ],
          [
           0.7777777777777778,
           "#fb9f3a"
          ],
          [
           0.8888888888888888,
           "#fdca26"
          ],
          [
           1,
           "#f0f921"
          ]
         ]
        },
        "geo": {
         "center": {},
         "domain": {
          "x": [
           0,
           1
          ],
          "y": [
           0,
           1
          ]
         }
        },
        "height": 600,
        "legend": {
         "tracegroupgap": 0
        },
        "template": {
         "data": {
          "bar": [
           {
            "error_x": {
             "color": "#2a3f5f"
            },
            "error_y": {
             "color": "#2a3f5f"
            },
            "marker": {
             "line": {
              "color": "#E5ECF6",
              "width": 0.5
             },
             "pattern": {
              "fillmode": "overlay",
              "size": 10,
              "solidity": 0.2
             }
            },
            "type": "bar"
           }
          ],
          "barpolar": [
           {
            "marker": {
             "line": {
              "color": "#E5ECF6",
              "width": 0.5
             },
             "pattern": {
              "fillmode": "overlay",
              "size": 10,
              "solidity": 0.2
             }
            },
            "type": "barpolar"
           }
          ],
          "carpet": [
           {
            "aaxis": {
             "endlinecolor": "#2a3f5f",
             "gridcolor": "white",
             "linecolor": "white",
             "minorgridcolor": "white",
             "startlinecolor": "#2a3f5f"
            },
            "baxis": {
             "endlinecolor": "#2a3f5f",
             "gridcolor": "white",
             "linecolor": "white",
             "minorgridcolor": "white",
             "startlinecolor": "#2a3f5f"
            },
            "type": "carpet"
           }
          ],
          "choropleth": [
           {
            "colorbar": {
             "outlinewidth": 0,
             "ticks": ""
            },
            "type": "choropleth"
           }
          ],
          "contour": [
           {
            "colorbar": {
             "outlinewidth": 0,
             "ticks": ""
            },
            "colorscale": [
             [
              0,
              "#0d0887"
             ],
             [
              0.1111111111111111,
              "#46039f"
             ],
             [
              0.2222222222222222,
              "#7201a8"
             ],
             [
              0.3333333333333333,
              "#9c179e"
             ],
             [
              0.4444444444444444,
              "#bd3786"
             ],
             [
              0.5555555555555556,
              "#d8576b"
             ],
             [
              0.6666666666666666,
              "#ed7953"
             ],
             [
              0.7777777777777778,
              "#fb9f3a"
             ],
             [
              0.8888888888888888,
              "#fdca26"
             ],
             [
              1,
              "#f0f921"
             ]
            ],
            "type": "contour"
           }
          ],
          "contourcarpet": [
           {
            "colorbar": {
             "outlinewidth": 0,
             "ticks": ""
            },
            "type": "contourcarpet"
           }
          ],
          "heatmap": [
           {
            "colorbar": {
             "outlinewidth": 0,
             "ticks": ""
            },
            "colorscale": [
             [
              0,
              "#0d0887"
             ],
             [
              0.1111111111111111,
              "#46039f"
             ],
             [
              0.2222222222222222,
              "#7201a8"
             ],
             [
              0.3333333333333333,
              "#9c179e"
             ],
             [
              0.4444444444444444,
              "#bd3786"
             ],
             [
              0.5555555555555556,
              "#d8576b"
             ],
             [
              0.6666666666666666,
              "#ed7953"
             ],
             [
              0.7777777777777778,
              "#fb9f3a"
             ],
             [
              0.8888888888888888,
              "#fdca26"
             ],
             [
              1,
              "#f0f921"
             ]
            ],
            "type": "heatmap"
           }
          ],
          "heatmapgl": [
           {
            "colorbar": {
             "outlinewidth": 0,
             "ticks": ""
            },
            "colorscale": [
             [
              0,
              "#0d0887"
             ],
             [
              0.1111111111111111,
              "#46039f"
             ],
             [
              0.2222222222222222,
              "#7201a8"
             ],
             [
              0.3333333333333333,
              "#9c179e"
             ],
             [
              0.4444444444444444,
              "#bd3786"
             ],
             [
              0.5555555555555556,
              "#d8576b"
             ],
             [
              0.6666666666666666,
              "#ed7953"
             ],
             [
              0.7777777777777778,
              "#fb9f3a"
             ],
             [
              0.8888888888888888,
              "#fdca26"
             ],
             [
              1,
              "#f0f921"
             ]
            ],
            "type": "heatmapgl"
           }
          ],
          "histogram": [
           {
            "marker": {
             "pattern": {
              "fillmode": "overlay",
              "size": 10,
              "solidity": 0.2
             }
            },
            "type": "histogram"
           }
          ],
          "histogram2d": [
           {
            "colorbar": {
             "outlinewidth": 0,
             "ticks": ""
            },
            "colorscale": [
             [
              0,
              "#0d0887"
             ],
             [
              0.1111111111111111,
              "#46039f"
             ],
             [
              0.2222222222222222,
              "#7201a8"
             ],
             [
              0.3333333333333333,
              "#9c179e"
             ],
             [
              0.4444444444444444,
              "#bd3786"
             ],
             [
              0.5555555555555556,
              "#d8576b"
             ],
             [
              0.6666666666666666,
              "#ed7953"
             ],
             [
              0.7777777777777778,
              "#fb9f3a"
             ],
             [
              0.8888888888888888,
              "#fdca26"
             ],
             [
              1,
              "#f0f921"
             ]
            ],
            "type": "histogram2d"
           }
          ],
          "histogram2dcontour": [
           {
            "colorbar": {
             "outlinewidth": 0,
             "ticks": ""
            },
            "colorscale": [
             [
              0,
              "#0d0887"
             ],
             [
              0.1111111111111111,
              "#46039f"
             ],
             [
              0.2222222222222222,
              "#7201a8"
             ],
             [
              0.3333333333333333,
              "#9c179e"
             ],
             [
              0.4444444444444444,
              "#bd3786"
             ],
             [
              0.5555555555555556,
              "#d8576b"
             ],
             [
              0.6666666666666666,
              "#ed7953"
             ],
             [
              0.7777777777777778,
              "#fb9f3a"
             ],
             [
              0.8888888888888888,
              "#fdca26"
             ],
             [
              1,
              "#f0f921"
             ]
            ],
            "type": "histogram2dcontour"
           }
          ],
          "mesh3d": [
           {
            "colorbar": {
             "outlinewidth": 0,
             "ticks": ""
            },
            "type": "mesh3d"
           }
          ],
          "parcoords": [
           {
            "line": {
             "colorbar": {
              "outlinewidth": 0,
              "ticks": ""
             }
            },
            "type": "parcoords"
           }
          ],
          "pie": [
           {
            "automargin": true,
            "type": "pie"
           }
          ],
          "scatter": [
           {
            "fillpattern": {
             "fillmode": "overlay",
             "size": 10,
             "solidity": 0.2
            },
            "type": "scatter"
           }
          ],
          "scatter3d": [
           {
            "line": {
             "colorbar": {
              "outlinewidth": 0,
              "ticks": ""
             }
            },
            "marker": {
             "colorbar": {
              "outlinewidth": 0,
              "ticks": ""
             }
            },
            "type": "scatter3d"
           }
          ],
          "scattercarpet": [
           {
            "marker": {
             "colorbar": {
              "outlinewidth": 0,
              "ticks": ""
             }
            },
            "type": "scattercarpet"
           }
          ],
          "scattergeo": [
           {
            "marker": {
             "colorbar": {
              "outlinewidth": 0,
              "ticks": ""
             }
            },
            "type": "scattergeo"
           }
          ],
          "scattergl": [
           {
            "marker": {
             "colorbar": {
              "outlinewidth": 0,
              "ticks": ""
             }
            },
            "type": "scattergl"
           }
          ],
          "scattermapbox": [
           {
            "marker": {
             "colorbar": {
              "outlinewidth": 0,
              "ticks": ""
             }
            },
            "type": "scattermapbox"
           }
          ],
          "scatterpolar": [
           {
            "marker": {
             "colorbar": {
              "outlinewidth": 0,
              "ticks": ""
             }
            },
            "type": "scatterpolar"
           }
          ],
          "scatterpolargl": [
           {
            "marker": {
             "colorbar": {
              "outlinewidth": 0,
              "ticks": ""
             }
            },
            "type": "scatterpolargl"
           }
          ],
          "scatterternary": [
           {
            "marker": {
             "colorbar": {
              "outlinewidth": 0,
              "ticks": ""
             }
            },
            "type": "scatterternary"
           }
          ],
          "surface": [
           {
            "colorbar": {
             "outlinewidth": 0,
             "ticks": ""
            },
            "colorscale": [
             [
              0,
              "#0d0887"
             ],
             [
              0.1111111111111111,
              "#46039f"
             ],
             [
              0.2222222222222222,
              "#7201a8"
             ],
             [
              0.3333333333333333,
              "#9c179e"
             ],
             [
              0.4444444444444444,
              "#bd3786"
             ],
             [
              0.5555555555555556,
              "#d8576b"
             ],
             [
              0.6666666666666666,
              "#ed7953"
             ],
             [
              0.7777777777777778,
              "#fb9f3a"
             ],
             [
              0.8888888888888888,
              "#fdca26"
             ],
             [
              1,
              "#f0f921"
             ]
            ],
            "type": "surface"
           }
          ],
          "table": [
           {
            "cells": {
             "fill": {
              "color": "#EBF0F8"
             },
             "line": {
              "color": "white"
             }
            },
            "header": {
             "fill": {
              "color": "#C8D4E3"
             },
             "line": {
              "color": "white"
             }
            },
            "type": "table"
           }
          ]
         },
         "layout": {
          "annotationdefaults": {
           "arrowcolor": "#2a3f5f",
           "arrowhead": 0,
           "arrowwidth": 1
          },
          "autotypenumbers": "strict",
          "coloraxis": {
           "colorbar": {
            "outlinewidth": 0,
            "ticks": ""
           }
          },
          "colorscale": {
           "diverging": [
            [
             0,
             "#8e0152"
            ],
            [
             0.1,
             "#c51b7d"
            ],
            [
             0.2,
             "#de77ae"
            ],
            [
             0.3,
             "#f1b6da"
            ],
            [
             0.4,
             "#fde0ef"
            ],
            [
             0.5,
             "#f7f7f7"
            ],
            [
             0.6,
             "#e6f5d0"
            ],
            [
             0.7,
             "#b8e186"
            ],
            [
             0.8,
             "#7fbc41"
            ],
            [
             0.9,
             "#4d9221"
            ],
            [
             1,
             "#276419"
            ]
           ],
           "sequential": [
            [
             0,
             "#0d0887"
            ],
            [
             0.1111111111111111,
             "#46039f"
            ],
            [
             0.2222222222222222,
             "#7201a8"
            ],
            [
             0.3333333333333333,
             "#9c179e"
            ],
            [
             0.4444444444444444,
             "#bd3786"
            ],
            [
             0.5555555555555556,
             "#d8576b"
            ],
            [
             0.6666666666666666,
             "#ed7953"
            ],
            [
             0.7777777777777778,
             "#fb9f3a"
            ],
            [
             0.8888888888888888,
             "#fdca26"
            ],
            [
             1,
             "#f0f921"
            ]
           ],
           "sequentialminus": [
            [
             0,
             "#0d0887"
            ],
            [
             0.1111111111111111,
             "#46039f"
            ],
            [
             0.2222222222222222,
             "#7201a8"
            ],
            [
             0.3333333333333333,
             "#9c179e"
            ],
            [
             0.4444444444444444,
             "#bd3786"
            ],
            [
             0.5555555555555556,
             "#d8576b"
            ],
            [
             0.6666666666666666,
             "#ed7953"
            ],
            [
             0.7777777777777778,
             "#fb9f3a"
            ],
            [
             0.8888888888888888,
             "#fdca26"
            ],
            [
             1,
             "#f0f921"
            ]
           ]
          },
          "colorway": [
           "#636efa",
           "#EF553B",
           "#00cc96",
           "#ab63fa",
           "#FFA15A",
           "#19d3f3",
           "#FF6692",
           "#B6E880",
           "#FF97FF",
           "#FECB52"
          ],
          "font": {
           "color": "#2a3f5f"
          },
          "geo": {
           "bgcolor": "white",
           "lakecolor": "white",
           "landcolor": "#E5ECF6",
           "showlakes": true,
           "showland": true,
           "subunitcolor": "white"
          },
          "hoverlabel": {
           "align": "left"
          },
          "hovermode": "closest",
          "mapbox": {
           "style": "light"
          },
          "paper_bgcolor": "white",
          "plot_bgcolor": "#E5ECF6",
          "polar": {
           "angularaxis": {
            "gridcolor": "white",
            "linecolor": "white",
            "ticks": ""
           },
           "bgcolor": "#E5ECF6",
           "radialaxis": {
            "gridcolor": "white",
            "linecolor": "white",
            "ticks": ""
           }
          },
          "scene": {
           "xaxis": {
            "backgroundcolor": "#E5ECF6",
            "gridcolor": "white",
            "gridwidth": 2,
            "linecolor": "white",
            "showbackground": true,
            "ticks": "",
            "zerolinecolor": "white"
           },
           "yaxis": {
            "backgroundcolor": "#E5ECF6",
            "gridcolor": "white",
            "gridwidth": 2,
            "linecolor": "white",
            "showbackground": true,
            "ticks": "",
            "zerolinecolor": "white"
           },
           "zaxis": {
            "backgroundcolor": "#E5ECF6",
            "gridcolor": "white",
            "gridwidth": 2,
            "linecolor": "white",
            "showbackground": true,
            "ticks": "",
            "zerolinecolor": "white"
           }
          },
          "shapedefaults": {
           "line": {
            "color": "#2a3f5f"
           }
          },
          "ternary": {
           "aaxis": {
            "gridcolor": "white",
            "linecolor": "white",
            "ticks": ""
           },
           "baxis": {
            "gridcolor": "white",
            "linecolor": "white",
            "ticks": ""
           },
           "bgcolor": "#E5ECF6",
           "caxis": {
            "gridcolor": "white",
            "linecolor": "white",
            "ticks": ""
           }
          },
          "title": {
           "x": 0.05
          },
          "xaxis": {
           "automargin": true,
           "gridcolor": "white",
           "linecolor": "white",
           "ticks": "",
           "title": {
            "standoff": 15
           },
           "zerolinecolor": "white",
           "zerolinewidth": 2
          },
          "yaxis": {
           "automargin": true,
           "gridcolor": "white",
           "linecolor": "white",
           "ticks": "",
           "title": {
            "standoff": 15
           },
           "zerolinecolor": "white",
           "zerolinewidth": 2
          }
         }
        },
        "title": {
         "text": "Global Hunger Index by Country"
        },
        "width": 1000
       }
      }
     },
     "metadata": {},
     "output_type": "display_data"
    }
   ],
   "source": [
    "fig = px.choropleth(df_hunger_index_2021, locations='Code', color='ghi', hover_name='Entity',\n",
    "                    animation_frame=\"Year\",\n",
    "                    title='Global Hunger Index by Country',width=1000, height=600)\n",
    "fig.show()"
   ]
  },
  {
   "cell_type": "code",
   "execution_count": null,
   "metadata": {},
   "outputs": [],
   "source": []
  },
  {
   "cell_type": "markdown",
   "metadata": {},
   "source": []
  },
  {
   "cell_type": "markdown",
   "metadata": {},
   "source": [
    "We now look at the Food Safety Index of Countries\n",
    "\n",
    "The Global Food Security Index (GFSI) considers food affordability, availability, quality and safety, \n",
    "and sustainability and adaptation across 113 countries. The index is a dynamic quantitative \n",
    "and qualitative benchmarking model constructed from 68 unique indicators that measure the drivers \n",
    "of food security across both developing and developed countries."
   ]
  },
  {
   "cell_type": "code",
   "execution_count": 175,
   "metadata": {},
   "outputs": [
    {
     "data": {
      "text/html": [
       "<div>\n",
       "<style scoped>\n",
       "    .dataframe tbody tr th:only-of-type {\n",
       "        vertical-align: middle;\n",
       "    }\n",
       "\n",
       "    .dataframe tbody tr th {\n",
       "        vertical-align: top;\n",
       "    }\n",
       "\n",
       "    .dataframe thead th {\n",
       "        text-align: right;\n",
       "    }\n",
       "</style>\n",
       "<table border=\"1\" class=\"dataframe\">\n",
       "  <thead>\n",
       "    <tr style=\"text-align: right;\">\n",
       "      <th></th>\n",
       "      <th>COUNTRY_ID</th>\n",
       "      <th>Name</th>\n",
       "      <th>Rank</th>\n",
       "      <th>2012</th>\n",
       "      <th>2013</th>\n",
       "      <th>2014</th>\n",
       "      <th>2015</th>\n",
       "      <th>2016</th>\n",
       "      <th>2017</th>\n",
       "      <th>2018</th>\n",
       "      <th>...</th>\n",
       "      <th>iso_3166-2</th>\n",
       "      <th>region</th>\n",
       "      <th>sub-region</th>\n",
       "      <th>intermediate-region</th>\n",
       "      <th>region-code</th>\n",
       "      <th>sub-region-code</th>\n",
       "      <th>intermediate-region-code</th>\n",
       "      <th>Unnamed: 11</th>\n",
       "      <th>Unnamed: 12</th>\n",
       "      <th>averageFSI</th>\n",
       "    </tr>\n",
       "  </thead>\n",
       "  <tbody>\n",
       "    <tr>\n",
       "      <th>0</th>\n",
       "      <td>35</td>\n",
       "      <td>Finland</td>\n",
       "      <td>1</td>\n",
       "      <td>78.4</td>\n",
       "      <td>78.2</td>\n",
       "      <td>78.3</td>\n",
       "      <td>80.7</td>\n",
       "      <td>83.0</td>\n",
       "      <td>84.0</td>\n",
       "      <td>83.8</td>\n",
       "      <td>...</td>\n",
       "      <td>ISO 3166-2:FI</td>\n",
       "      <td>Europe</td>\n",
       "      <td>Northern Europe</td>\n",
       "      <td>NaN</td>\n",
       "      <td>150.0</td>\n",
       "      <td>154.0</td>\n",
       "      <td>NaN</td>\n",
       "      <td>NaN</td>\n",
       "      <td>Finland</td>\n",
       "      <td>82.23</td>\n",
       "    </tr>\n",
       "    <tr>\n",
       "      <th>1</th>\n",
       "      <td>47</td>\n",
       "      <td>Ireland</td>\n",
       "      <td>2</td>\n",
       "      <td>76.9</td>\n",
       "      <td>78.0</td>\n",
       "      <td>78.2</td>\n",
       "      <td>78.5</td>\n",
       "      <td>80.7</td>\n",
       "      <td>81.6</td>\n",
       "      <td>82.4</td>\n",
       "      <td>...</td>\n",
       "      <td>ISO 3166-2:IE</td>\n",
       "      <td>Europe</td>\n",
       "      <td>Northern Europe</td>\n",
       "      <td>NaN</td>\n",
       "      <td>150.0</td>\n",
       "      <td>154.0</td>\n",
       "      <td>NaN</td>\n",
       "      <td>NaN</td>\n",
       "      <td>Ireland</td>\n",
       "      <td>80.78</td>\n",
       "    </tr>\n",
       "    <tr>\n",
       "      <th>2</th>\n",
       "      <td>70</td>\n",
       "      <td>Norway</td>\n",
       "      <td>3</td>\n",
       "      <td>80.9</td>\n",
       "      <td>81.5</td>\n",
       "      <td>81.9</td>\n",
       "      <td>82.0</td>\n",
       "      <td>81.2</td>\n",
       "      <td>81.6</td>\n",
       "      <td>82.3</td>\n",
       "      <td>...</td>\n",
       "      <td>ISO 3166-2:NO</td>\n",
       "      <td>Europe</td>\n",
       "      <td>Northern Europe</td>\n",
       "      <td>NaN</td>\n",
       "      <td>150.0</td>\n",
       "      <td>154.0</td>\n",
       "      <td>NaN</td>\n",
       "      <td>NaN</td>\n",
       "      <td>Norway</td>\n",
       "      <td>81.20</td>\n",
       "    </tr>\n",
       "    <tr>\n",
       "      <th>3</th>\n",
       "      <td>36</td>\n",
       "      <td>France</td>\n",
       "      <td>4</td>\n",
       "      <td>76.8</td>\n",
       "      <td>76.3</td>\n",
       "      <td>77.2</td>\n",
       "      <td>77.5</td>\n",
       "      <td>76.9</td>\n",
       "      <td>78.6</td>\n",
       "      <td>78.4</td>\n",
       "      <td>...</td>\n",
       "      <td>ISO 3166-2:FR</td>\n",
       "      <td>Europe</td>\n",
       "      <td>Western Europe</td>\n",
       "      <td>NaN</td>\n",
       "      <td>150.0</td>\n",
       "      <td>155.0</td>\n",
       "      <td>NaN</td>\n",
       "      <td>NaN</td>\n",
       "      <td>France</td>\n",
       "      <td>77.93</td>\n",
       "    </tr>\n",
       "    <tr>\n",
       "      <th>4</th>\n",
       "      <td>65</td>\n",
       "      <td>Netherlands</td>\n",
       "      <td>5</td>\n",
       "      <td>73.4</td>\n",
       "      <td>76.7</td>\n",
       "      <td>76.2</td>\n",
       "      <td>76.0</td>\n",
       "      <td>76.2</td>\n",
       "      <td>76.6</td>\n",
       "      <td>80.7</td>\n",
       "      <td>...</td>\n",
       "      <td>ISO 3166-2:NL</td>\n",
       "      <td>Europe</td>\n",
       "      <td>Western Europe</td>\n",
       "      <td>NaN</td>\n",
       "      <td>150.0</td>\n",
       "      <td>155.0</td>\n",
       "      <td>NaN</td>\n",
       "      <td>NaN</td>\n",
       "      <td>Netherlands</td>\n",
       "      <td>78.28</td>\n",
       "    </tr>\n",
       "    <tr>\n",
       "      <th>...</th>\n",
       "      <td>...</td>\n",
       "      <td>...</td>\n",
       "      <td>...</td>\n",
       "      <td>...</td>\n",
       "      <td>...</td>\n",
       "      <td>...</td>\n",
       "      <td>...</td>\n",
       "      <td>...</td>\n",
       "      <td>...</td>\n",
       "      <td>...</td>\n",
       "      <td>...</td>\n",
       "      <td>...</td>\n",
       "      <td>...</td>\n",
       "      <td>...</td>\n",
       "      <td>...</td>\n",
       "      <td>...</td>\n",
       "      <td>...</td>\n",
       "      <td>...</td>\n",
       "      <td>...</td>\n",
       "      <td>...</td>\n",
       "      <td>...</td>\n",
       "    </tr>\n",
       "    <tr>\n",
       "      <th>108</th>\n",
       "      <td>56</td>\n",
       "      <td>Madagascar</td>\n",
       "      <td>108</td>\n",
       "      <td>39.4</td>\n",
       "      <td>40.4</td>\n",
       "      <td>40.0</td>\n",
       "      <td>40.2</td>\n",
       "      <td>39.5</td>\n",
       "      <td>39.1</td>\n",
       "      <td>38.4</td>\n",
       "      <td>...</td>\n",
       "      <td>ISO 3166-2:MG</td>\n",
       "      <td>Africa</td>\n",
       "      <td>Sub-Saharan Africa</td>\n",
       "      <td>Eastern Africa</td>\n",
       "      <td>2.0</td>\n",
       "      <td>202.0</td>\n",
       "      <td>14.0</td>\n",
       "      <td>NaN</td>\n",
       "      <td>Madagascar</td>\n",
       "      <td>40.09</td>\n",
       "    </tr>\n",
       "    <tr>\n",
       "      <th>109</th>\n",
       "      <td>86</td>\n",
       "      <td>Sierra Leone</td>\n",
       "      <td>110</td>\n",
       "      <td>41.5</td>\n",
       "      <td>42.6</td>\n",
       "      <td>46.7</td>\n",
       "      <td>48.0</td>\n",
       "      <td>46.6</td>\n",
       "      <td>44.5</td>\n",
       "      <td>40.1</td>\n",
       "      <td>...</td>\n",
       "      <td>ISO 3166-2:SL</td>\n",
       "      <td>Africa</td>\n",
       "      <td>Sub-Saharan Africa</td>\n",
       "      <td>Western Africa</td>\n",
       "      <td>2.0</td>\n",
       "      <td>202.0</td>\n",
       "      <td>11.0</td>\n",
       "      <td>NaN</td>\n",
       "      <td>Sierra Leone</td>\n",
       "      <td>44.00</td>\n",
       "    </tr>\n",
       "    <tr>\n",
       "      <th>110</th>\n",
       "      <td>112</td>\n",
       "      <td>Yemen</td>\n",
       "      <td>111</td>\n",
       "      <td>40.0</td>\n",
       "      <td>42.5</td>\n",
       "      <td>41.2</td>\n",
       "      <td>46.2</td>\n",
       "      <td>43.3</td>\n",
       "      <td>39.4</td>\n",
       "      <td>38.9</td>\n",
       "      <td>...</td>\n",
       "      <td>ISO 3166-2:YE</td>\n",
       "      <td>Asia</td>\n",
       "      <td>Western Asia</td>\n",
       "      <td>NaN</td>\n",
       "      <td>142.0</td>\n",
       "      <td>145.0</td>\n",
       "      <td>NaN</td>\n",
       "      <td>NaN</td>\n",
       "      <td>Yemen</td>\n",
       "      <td>40.94</td>\n",
       "    </tr>\n",
       "    <tr>\n",
       "      <th>111</th>\n",
       "      <td>42</td>\n",
       "      <td>Haiti</td>\n",
       "      <td>112</td>\n",
       "      <td>43.9</td>\n",
       "      <td>46.0</td>\n",
       "      <td>46.5</td>\n",
       "      <td>48.5</td>\n",
       "      <td>45.4</td>\n",
       "      <td>42.4</td>\n",
       "      <td>41.7</td>\n",
       "      <td>...</td>\n",
       "      <td>ISO 3166-2:HT</td>\n",
       "      <td>Americas</td>\n",
       "      <td>Latin America and the Caribbean</td>\n",
       "      <td>Caribbean</td>\n",
       "      <td>19.0</td>\n",
       "      <td>419.0</td>\n",
       "      <td>29.0</td>\n",
       "      <td>NaN</td>\n",
       "      <td>Haiti</td>\n",
       "      <td>42.16</td>\n",
       "    </tr>\n",
       "    <tr>\n",
       "      <th>112</th>\n",
       "      <td>96</td>\n",
       "      <td>Syria</td>\n",
       "      <td>113</td>\n",
       "      <td>46.8</td>\n",
       "      <td>42.4</td>\n",
       "      <td>42.0</td>\n",
       "      <td>41.7</td>\n",
       "      <td>40.0</td>\n",
       "      <td>38.3</td>\n",
       "      <td>39.9</td>\n",
       "      <td>...</td>\n",
       "      <td>ISO 3166-2:SY</td>\n",
       "      <td>Asia</td>\n",
       "      <td>Western Asia</td>\n",
       "      <td>NaN</td>\n",
       "      <td>142.0</td>\n",
       "      <td>145.0</td>\n",
       "      <td>NaN</td>\n",
       "      <td>NaN</td>\n",
       "      <td>NaN</td>\n",
       "      <td>40.03</td>\n",
       "    </tr>\n",
       "  </tbody>\n",
       "</table>\n",
       "<p>113 rows × 28 columns</p>\n",
       "</div>"
      ],
      "text/plain": [
       "     COUNTRY_ID          Name  Rank  2012  2013  2014  2015  2016  2017  2018  \\\n",
       "0            35       Finland     1  78.4  78.2  78.3  80.7  83.0  84.0  83.8   \n",
       "1            47       Ireland     2  76.9  78.0  78.2  78.5  80.7  81.6  82.4   \n",
       "2            70        Norway     3  80.9  81.5  81.9  82.0  81.2  81.6  82.3   \n",
       "3            36        France     4  76.8  76.3  77.2  77.5  76.9  78.6  78.4   \n",
       "4            65   Netherlands     5  73.4  76.7  76.2  76.0  76.2  76.6  80.7   \n",
       "..          ...           ...   ...   ...   ...   ...   ...   ...   ...   ...   \n",
       "108          56    Madagascar   108  39.4  40.4  40.0  40.2  39.5  39.1  38.4   \n",
       "109          86  Sierra Leone   110  41.5  42.6  46.7  48.0  46.6  44.5  40.1   \n",
       "110         112         Yemen   111  40.0  42.5  41.2  46.2  43.3  39.4  38.9   \n",
       "111          42         Haiti   112  43.9  46.0  46.5  48.5  45.4  42.4  41.7   \n",
       "112          96         Syria   113  46.8  42.4  42.0  41.7  40.0  38.3  39.9   \n",
       "\n",
       "     ...     iso_3166-2    region                       sub-region  \\\n",
       "0    ...  ISO 3166-2:FI    Europe                  Northern Europe   \n",
       "1    ...  ISO 3166-2:IE    Europe                  Northern Europe   \n",
       "2    ...  ISO 3166-2:NO    Europe                  Northern Europe   \n",
       "3    ...  ISO 3166-2:FR    Europe                   Western Europe   \n",
       "4    ...  ISO 3166-2:NL    Europe                   Western Europe   \n",
       "..   ...            ...       ...                              ...   \n",
       "108  ...  ISO 3166-2:MG    Africa               Sub-Saharan Africa   \n",
       "109  ...  ISO 3166-2:SL    Africa               Sub-Saharan Africa   \n",
       "110  ...  ISO 3166-2:YE      Asia                     Western Asia   \n",
       "111  ...  ISO 3166-2:HT  Americas  Latin America and the Caribbean   \n",
       "112  ...  ISO 3166-2:SY      Asia                     Western Asia   \n",
       "\n",
       "     intermediate-region  region-code sub-region-code  \\\n",
       "0                    NaN        150.0           154.0   \n",
       "1                    NaN        150.0           154.0   \n",
       "2                    NaN        150.0           154.0   \n",
       "3                    NaN        150.0           155.0   \n",
       "4                    NaN        150.0           155.0   \n",
       "..                   ...          ...             ...   \n",
       "108       Eastern Africa          2.0           202.0   \n",
       "109       Western Africa          2.0           202.0   \n",
       "110                  NaN        142.0           145.0   \n",
       "111            Caribbean         19.0           419.0   \n",
       "112                  NaN        142.0           145.0   \n",
       "\n",
       "    intermediate-region-code  Unnamed: 11   Unnamed: 12 averageFSI  \n",
       "0                        NaN          NaN       Finland      82.23  \n",
       "1                        NaN          NaN       Ireland      80.78  \n",
       "2                        NaN          NaN        Norway      81.20  \n",
       "3                        NaN          NaN        France      77.93  \n",
       "4                        NaN          NaN   Netherlands      78.28  \n",
       "..                       ...          ...           ...        ...  \n",
       "108                     14.0          NaN    Madagascar      40.09  \n",
       "109                     11.0          NaN  Sierra Leone      44.00  \n",
       "110                      NaN          NaN         Yemen      40.94  \n",
       "111                     29.0          NaN         Haiti      42.16  \n",
       "112                      NaN          NaN           NaN      40.03  \n",
       "\n",
       "[113 rows x 28 columns]"
      ]
     },
     "execution_count": 175,
     "metadata": {},
     "output_type": "execute_result"
    }
   ],
   "source": [
    "df_food_safety = pd.read_csv(\"data/FSI_Index.csv\")\n",
    "df_regions = pd.read_csv(\"data/regions.csv\")\n",
    "df_regions.rename(columns = {'name':'Name'}, inplace = True)\n",
    "df_food_safety = pd.merge(df_food_safety, df_regions, on=\"Name\", how=\"left\")\n",
    "\n",
    "#Average FSI over the years 2012 - 2022\n",
    "df_food_safety = df_food_safety.assign(averageFSI=df_food_safety.iloc[:, 4:14].mean(axis=1))\n",
    "df_food_safety"
   ]
  },
  {
   "cell_type": "markdown",
   "metadata": {},
   "source": [
    "Overall food security environment: the top- and bottom-ranking countries in 2022"
   ]
  },
  {
   "cell_type": "code",
   "execution_count": 116,
   "metadata": {},
   "outputs": [],
   "source": [
    "def make_pretty(styler):\n",
    "    styler.set_caption(\"Best performers\")\n",
    "    styler.background_gradient(axis=None, vmin=1, vmax=10, cmap=\"YlGnBu\")\n",
    "    return styler\n",
    "\n",
    "def make_pretty2(styler):\n",
    "    styler.set_caption(\"Weakest performers\")\n",
    "    styler.background_gradient(axis=None, vmin=104, vmax=115, cmap=\"YlGnBu\")\n",
    "    return styler\n"
   ]
  },
  {
   "cell_type": "code",
   "execution_count": 164,
   "metadata": {},
   "outputs": [
    {
     "data": {
      "text/html": [
       "<style type=\"text/css\">\n",
       "#T_ad9ae_row0_col1, #T_ad9ae_row0_col2, #T_ad9ae_row0_col3, #T_ad9ae_row1_col1, #T_ad9ae_row1_col2, #T_ad9ae_row1_col3, #T_ad9ae_row2_col1, #T_ad9ae_row2_col2, #T_ad9ae_row2_col3, #T_ad9ae_row3_col1, #T_ad9ae_row3_col2, #T_ad9ae_row3_col3, #T_ad9ae_row4_col1, #T_ad9ae_row4_col2, #T_ad9ae_row4_col3, #T_ad9ae_row5_col1, #T_ad9ae_row5_col2, #T_ad9ae_row5_col3, #T_ad9ae_row6_col1, #T_ad9ae_row6_col2, #T_ad9ae_row6_col3, #T_ad9ae_row7_col1, #T_ad9ae_row7_col2, #T_ad9ae_row7_col3, #T_ad9ae_row8_col1, #T_ad9ae_row8_col2, #T_ad9ae_row8_col3, #T_ad9ae_row9_col1, #T_ad9ae_row9_col2, #T_ad9ae_row9_col3, #T_ad9ae_row9_col4 {\n",
       "  background-color: #081d58;\n",
       "  color: #f1f1f1;\n",
       "}\n",
       "#T_ad9ae_row0_col4 {\n",
       "  background-color: #ffffd9;\n",
       "  color: #000000;\n",
       "}\n",
       "#T_ad9ae_row1_col4 {\n",
       "  background-color: #eff9b6;\n",
       "  color: #000000;\n",
       "}\n",
       "#T_ad9ae_row2_col4 {\n",
       "  background-color: #d0edb3;\n",
       "  color: #000000;\n",
       "}\n",
       "#T_ad9ae_row3_col4 {\n",
       "  background-color: #97d6b9;\n",
       "  color: #000000;\n",
       "}\n",
       "#T_ad9ae_row4_col4 {\n",
       "  background-color: #5dc0c0;\n",
       "  color: #000000;\n",
       "}\n",
       "#T_ad9ae_row5_col4 {\n",
       "  background-color: #31a5c2;\n",
       "  color: #f1f1f1;\n",
       "}\n",
       "#T_ad9ae_row6_col4, #T_ad9ae_row7_col4 {\n",
       "  background-color: #1f80b8;\n",
       "  color: #f1f1f1;\n",
       "}\n",
       "#T_ad9ae_row8_col4 {\n",
       "  background-color: #21318d;\n",
       "  color: #f1f1f1;\n",
       "}\n",
       "</style>\n",
       "<table id=\"T_ad9ae\">\n",
       "  <caption>Best performers</caption>\n",
       "  <thead>\n",
       "    <tr>\n",
       "      <th class=\"blank level0\" >&nbsp;</th>\n",
       "      <th id=\"T_ad9ae_level0_col0\" class=\"col_heading level0 col0\" >Name</th>\n",
       "      <th id=\"T_ad9ae_level0_col1\" class=\"col_heading level0 col1\" >2022</th>\n",
       "      <th id=\"T_ad9ae_level0_col2\" class=\"col_heading level0 col2\" >2012</th>\n",
       "      <th id=\"T_ad9ae_level0_col3\" class=\"col_heading level0 col3\" >averageFSI</th>\n",
       "      <th id=\"T_ad9ae_level0_col4\" class=\"col_heading level0 col4\" >Rank</th>\n",
       "      <th id=\"T_ad9ae_level0_col5\" class=\"col_heading level0 col5\" >region</th>\n",
       "    </tr>\n",
       "  </thead>\n",
       "  <tbody>\n",
       "    <tr>\n",
       "      <th id=\"T_ad9ae_level0_row0\" class=\"row_heading level0 row0\" >0</th>\n",
       "      <td id=\"T_ad9ae_row0_col0\" class=\"data row0 col0\" >Finland</td>\n",
       "      <td id=\"T_ad9ae_row0_col1\" class=\"data row0 col1\" >83.700000</td>\n",
       "      <td id=\"T_ad9ae_row0_col2\" class=\"data row0 col2\" >78.400000</td>\n",
       "      <td id=\"T_ad9ae_row0_col3\" class=\"data row0 col3\" >82.230000</td>\n",
       "      <td id=\"T_ad9ae_row0_col4\" class=\"data row0 col4\" >1</td>\n",
       "      <td id=\"T_ad9ae_row0_col5\" class=\"data row0 col5\" >Europe</td>\n",
       "    </tr>\n",
       "    <tr>\n",
       "      <th id=\"T_ad9ae_level0_row1\" class=\"row_heading level0 row1\" >1</th>\n",
       "      <td id=\"T_ad9ae_row1_col0\" class=\"data row1 col0\" >Ireland</td>\n",
       "      <td id=\"T_ad9ae_row1_col1\" class=\"data row1 col1\" >81.700000</td>\n",
       "      <td id=\"T_ad9ae_row1_col2\" class=\"data row1 col2\" >76.900000</td>\n",
       "      <td id=\"T_ad9ae_row1_col3\" class=\"data row1 col3\" >80.780000</td>\n",
       "      <td id=\"T_ad9ae_row1_col4\" class=\"data row1 col4\" >2</td>\n",
       "      <td id=\"T_ad9ae_row1_col5\" class=\"data row1 col5\" >Europe</td>\n",
       "    </tr>\n",
       "    <tr>\n",
       "      <th id=\"T_ad9ae_level0_row2\" class=\"row_heading level0 row2\" >2</th>\n",
       "      <td id=\"T_ad9ae_row2_col0\" class=\"data row2 col0\" >Norway</td>\n",
       "      <td id=\"T_ad9ae_row2_col1\" class=\"data row2 col1\" >80.500000</td>\n",
       "      <td id=\"T_ad9ae_row2_col2\" class=\"data row2 col2\" >80.900000</td>\n",
       "      <td id=\"T_ad9ae_row2_col3\" class=\"data row2 col3\" >81.200000</td>\n",
       "      <td id=\"T_ad9ae_row2_col4\" class=\"data row2 col4\" >3</td>\n",
       "      <td id=\"T_ad9ae_row2_col5\" class=\"data row2 col5\" >Europe</td>\n",
       "    </tr>\n",
       "    <tr>\n",
       "      <th id=\"T_ad9ae_level0_row3\" class=\"row_heading level0 row3\" >3</th>\n",
       "      <td id=\"T_ad9ae_row3_col0\" class=\"data row3 col0\" >France</td>\n",
       "      <td id=\"T_ad9ae_row3_col1\" class=\"data row3 col1\" >80.200000</td>\n",
       "      <td id=\"T_ad9ae_row3_col2\" class=\"data row3 col2\" >76.800000</td>\n",
       "      <td id=\"T_ad9ae_row3_col3\" class=\"data row3 col3\" >77.930000</td>\n",
       "      <td id=\"T_ad9ae_row3_col4\" class=\"data row3 col4\" >4</td>\n",
       "      <td id=\"T_ad9ae_row3_col5\" class=\"data row3 col5\" >Europe</td>\n",
       "    </tr>\n",
       "    <tr>\n",
       "      <th id=\"T_ad9ae_level0_row4\" class=\"row_heading level0 row4\" >4</th>\n",
       "      <td id=\"T_ad9ae_row4_col0\" class=\"data row4 col0\" >Netherlands</td>\n",
       "      <td id=\"T_ad9ae_row4_col1\" class=\"data row4 col1\" >80.100000</td>\n",
       "      <td id=\"T_ad9ae_row4_col2\" class=\"data row4 col2\" >73.400000</td>\n",
       "      <td id=\"T_ad9ae_row4_col3\" class=\"data row4 col3\" >78.280000</td>\n",
       "      <td id=\"T_ad9ae_row4_col4\" class=\"data row4 col4\" >5</td>\n",
       "      <td id=\"T_ad9ae_row4_col5\" class=\"data row4 col5\" >Europe</td>\n",
       "    </tr>\n",
       "    <tr>\n",
       "      <th id=\"T_ad9ae_level0_row5\" class=\"row_heading level0 row5\" >5</th>\n",
       "      <td id=\"T_ad9ae_row5_col0\" class=\"data row5 col0\" >Japan</td>\n",
       "      <td id=\"T_ad9ae_row5_col1\" class=\"data row5 col1\" >79.500000</td>\n",
       "      <td id=\"T_ad9ae_row5_col2\" class=\"data row5 col2\" >75.400000</td>\n",
       "      <td id=\"T_ad9ae_row5_col3\" class=\"data row5 col3\" >78.700000</td>\n",
       "      <td id=\"T_ad9ae_row5_col4\" class=\"data row5 col4\" >6</td>\n",
       "      <td id=\"T_ad9ae_row5_col5\" class=\"data row5 col5\" >Asia</td>\n",
       "    </tr>\n",
       "    <tr>\n",
       "      <th id=\"T_ad9ae_level0_row6\" class=\"row_heading level0 row6\" >6</th>\n",
       "      <td id=\"T_ad9ae_row6_col0\" class=\"data row6 col0\" >Canada</td>\n",
       "      <td id=\"T_ad9ae_row6_col1\" class=\"data row6 col1\" >79.100000</td>\n",
       "      <td id=\"T_ad9ae_row6_col2\" class=\"data row6 col2\" >72.100000</td>\n",
       "      <td id=\"T_ad9ae_row6_col3\" class=\"data row6 col3\" >75.310000</td>\n",
       "      <td id=\"T_ad9ae_row6_col4\" class=\"data row6 col4\" >7</td>\n",
       "      <td id=\"T_ad9ae_row6_col5\" class=\"data row6 col5\" >Americas</td>\n",
       "    </tr>\n",
       "    <tr>\n",
       "      <th id=\"T_ad9ae_level0_row7\" class=\"row_heading level0 row7\" >7</th>\n",
       "      <td id=\"T_ad9ae_row7_col0\" class=\"data row7 col0\" >Sweden</td>\n",
       "      <td id=\"T_ad9ae_row7_col1\" class=\"data row7 col1\" >79.100000</td>\n",
       "      <td id=\"T_ad9ae_row7_col2\" class=\"data row7 col2\" >75.700000</td>\n",
       "      <td id=\"T_ad9ae_row7_col3\" class=\"data row7 col3\" >78.500000</td>\n",
       "      <td id=\"T_ad9ae_row7_col4\" class=\"data row7 col4\" >7</td>\n",
       "      <td id=\"T_ad9ae_row7_col5\" class=\"data row7 col5\" >Europe</td>\n",
       "    </tr>\n",
       "    <tr>\n",
       "      <th id=\"T_ad9ae_level0_row8\" class=\"row_heading level0 row8\" >8</th>\n",
       "      <td id=\"T_ad9ae_row8_col0\" class=\"data row8 col0\" >United Kingdom</td>\n",
       "      <td id=\"T_ad9ae_row8_col1\" class=\"data row8 col1\" >78.800000</td>\n",
       "      <td id=\"T_ad9ae_row8_col2\" class=\"data row8 col2\" >71.600000</td>\n",
       "      <td id=\"T_ad9ae_row8_col3\" class=\"data row8 col3\" >77.220000</td>\n",
       "      <td id=\"T_ad9ae_row8_col4\" class=\"data row8 col4\" >9</td>\n",
       "      <td id=\"T_ad9ae_row8_col5\" class=\"data row8 col5\" >Europe</td>\n",
       "    </tr>\n",
       "    <tr>\n",
       "      <th id=\"T_ad9ae_level0_row9\" class=\"row_heading level0 row9\" >9</th>\n",
       "      <td id=\"T_ad9ae_row9_col0\" class=\"data row9 col0\" >Portugal</td>\n",
       "      <td id=\"T_ad9ae_row9_col1\" class=\"data row9 col1\" >78.700000</td>\n",
       "      <td id=\"T_ad9ae_row9_col2\" class=\"data row9 col2\" >74.800000</td>\n",
       "      <td id=\"T_ad9ae_row9_col3\" class=\"data row9 col3\" >77.350000</td>\n",
       "      <td id=\"T_ad9ae_row9_col4\" class=\"data row9 col4\" >10</td>\n",
       "      <td id=\"T_ad9ae_row9_col5\" class=\"data row9 col5\" >Europe</td>\n",
       "    </tr>\n",
       "  </tbody>\n",
       "</table>\n"
      ],
      "text/plain": [
       "<pandas.io.formats.style.Styler at 0x1af262e4c90>"
      ]
     },
     "execution_count": 164,
     "metadata": {},
     "output_type": "execute_result"
    }
   ],
   "source": [
    "df_fsi_top20 = df_food_safety[[\"Name\",\"2022\",\"2012\",\"averageFSI\",\"Rank\",\"region\"]][~df_food_safety[\"Rank\"].between(11, 103)]\n",
    "df_fsi_top20[df_fsi_top20[\"Rank\"] < 11].style.pipe(make_pretty)"
   ]
  },
  {
   "cell_type": "code",
   "execution_count": 165,
   "metadata": {},
   "outputs": [
    {
     "data": {
      "text/html": [
       "<style type=\"text/css\">\n",
       "#T_ccb22_row0_col1, #T_ccb22_row2_col2 {\n",
       "  background-color: #ffffd9;\n",
       "  color: #000000;\n",
       "  width: 10em;\n",
       "  background: linear-gradient(90deg, lightgreen 100.0%, transparent 100.0%);\n",
       "}\n",
       "#T_ccb22_row0_col2 {\n",
       "  background-color: #ffffd9;\n",
       "  color: #000000;\n",
       "  width: 10em;\n",
       "  background: linear-gradient(90deg, lightgreen 70.9%, transparent 70.9%);\n",
       "}\n",
       "#T_ccb22_row0_col3, #T_ccb22_row0_col4, #T_ccb22_row1_col3, #T_ccb22_row2_col3, #T_ccb22_row3_col3, #T_ccb22_row4_col3, #T_ccb22_row5_col3, #T_ccb22_row6_col3, #T_ccb22_row7_col3, #T_ccb22_row8_col3, #T_ccb22_row9_col3 {\n",
       "  background-color: #ffffd9;\n",
       "  color: #000000;\n",
       "}\n",
       "#T_ccb22_row1_col1 {\n",
       "  background-color: #ffffd9;\n",
       "  color: #000000;\n",
       "  width: 10em;\n",
       "  background: linear-gradient(90deg, lightgreen 99.5%, transparent 99.5%);\n",
       "}\n",
       "#T_ccb22_row1_col2 {\n",
       "  background-color: #ffffd9;\n",
       "  color: #000000;\n",
       "  width: 10em;\n",
       "  background: linear-gradient(90deg, lightgreen 74.7%, transparent 74.7%);\n",
       "}\n",
       "#T_ccb22_row1_col4 {\n",
       "  background-color: #f2fabc;\n",
       "  color: #000000;\n",
       "}\n",
       "#T_ccb22_row2_col1 {\n",
       "  background-color: #ffffd9;\n",
       "  color: #000000;\n",
       "  width: 10em;\n",
       "  background: linear-gradient(90deg, lightgreen 99.1%, transparent 99.1%);\n",
       "}\n",
       "#T_ccb22_row2_col4 {\n",
       "  background-color: #dcf1b2;\n",
       "  color: #000000;\n",
       "}\n",
       "#T_ccb22_row3_col1 {\n",
       "  background-color: #ffffd9;\n",
       "  color: #000000;\n",
       "  width: 10em;\n",
       "  background: linear-gradient(90deg, lightgreen 97.7%, transparent 97.7%);\n",
       "}\n",
       "#T_ccb22_row3_col2 {\n",
       "  background-color: #ffffd9;\n",
       "  color: #000000;\n",
       "  width: 10em;\n",
       "  background: linear-gradient(90deg, lightgreen 90.3%, transparent 90.3%);\n",
       "}\n",
       "#T_ccb22_row3_col4 {\n",
       "  background-color: #bbe4b5;\n",
       "  color: #000000;\n",
       "}\n",
       "#T_ccb22_row4_col1, #T_ccb22_row5_col1 {\n",
       "  background-color: #ffffd9;\n",
       "  color: #000000;\n",
       "  width: 10em;\n",
       "  background: linear-gradient(90deg, lightgreen 94.4%, transparent 94.4%);\n",
       "}\n",
       "#T_ccb22_row4_col2 {\n",
       "  background-color: #ffffd9;\n",
       "  color: #000000;\n",
       "  width: 10em;\n",
       "  background: linear-gradient(90deg, lightgreen 88.4%, transparent 88.4%);\n",
       "}\n",
       "#T_ccb22_row4_col4, #T_ccb22_row5_col4 {\n",
       "  background-color: #85cfba;\n",
       "  color: #000000;\n",
       "}\n",
       "#T_ccb22_row5_col2 {\n",
       "  background-color: #ffffd9;\n",
       "  color: #000000;\n",
       "  width: 10em;\n",
       "  background: linear-gradient(90deg, lightgreen 82.9%, transparent 82.9%);\n",
       "}\n",
       "#T_ccb22_row6_col1 {\n",
       "  background-color: #ffffd9;\n",
       "  color: #000000;\n",
       "  width: 10em;\n",
       "  background: linear-gradient(90deg, lightgreen 94.2%, transparent 94.2%);\n",
       "}\n",
       "#T_ccb22_row6_col2 {\n",
       "  background-color: #ffffd9;\n",
       "  color: #000000;\n",
       "  width: 10em;\n",
       "  background: linear-gradient(90deg, lightgreen 87.4%, transparent 87.4%);\n",
       "}\n",
       "#T_ccb22_row6_col4 {\n",
       "  background-color: #34a9c3;\n",
       "  color: #f1f1f1;\n",
       "}\n",
       "#T_ccb22_row7_col1 {\n",
       "  background-color: #ffffd9;\n",
       "  color: #000000;\n",
       "  width: 10em;\n",
       "  background: linear-gradient(90deg, lightgreen 93.3%, transparent 93.3%);\n",
       "}\n",
       "#T_ccb22_row7_col2 {\n",
       "  background-color: #ffffd9;\n",
       "  color: #000000;\n",
       "  width: 10em;\n",
       "  background: linear-gradient(90deg, lightgreen 84.2%, transparent 84.2%);\n",
       "}\n",
       "#T_ccb22_row7_col4 {\n",
       "  background-color: #1d8dbe;\n",
       "  color: #f1f1f1;\n",
       "}\n",
       "#T_ccb22_row8_col1 {\n",
       "  background-color: #ffffd9;\n",
       "  color: #000000;\n",
       "  width: 10em;\n",
       "  background: linear-gradient(90deg, lightgreen 89.5%, transparent 89.5%);\n",
       "}\n",
       "#T_ccb22_row8_col2 {\n",
       "  background-color: #ffffd9;\n",
       "  color: #000000;\n",
       "  width: 10em;\n",
       "  background: linear-gradient(90deg, lightgreen 92.4%, transparent 92.4%);\n",
       "}\n",
       "#T_ccb22_row8_col4 {\n",
       "  background-color: #2166ac;\n",
       "  color: #f1f1f1;\n",
       "}\n",
       "#T_ccb22_row9_col1 {\n",
       "  background-color: #ffffd9;\n",
       "  color: #000000;\n",
       "  width: 10em;\n",
       "  background: linear-gradient(90deg, lightgreen 84.4%, transparent 84.4%);\n",
       "}\n",
       "#T_ccb22_row9_col2 {\n",
       "  background-color: #ffffd9;\n",
       "  color: #000000;\n",
       "  width: 10em;\n",
       "  background: linear-gradient(90deg, lightgreen 98.5%, transparent 98.5%);\n",
       "}\n",
       "#T_ccb22_row9_col4 {\n",
       "  background-color: #24479d;\n",
       "  color: #f1f1f1;\n",
       "}\n",
       "</style>\n",
       "<table id=\"T_ccb22\">\n",
       "  <caption>Weakest performers</caption>\n",
       "  <thead>\n",
       "    <tr>\n",
       "      <th class=\"blank level0\" >&nbsp;</th>\n",
       "      <th id=\"T_ccb22_level0_col0\" class=\"col_heading level0 col0\" >Name</th>\n",
       "      <th id=\"T_ccb22_level0_col1\" class=\"col_heading level0 col1\" >2022</th>\n",
       "      <th id=\"T_ccb22_level0_col2\" class=\"col_heading level0 col2\" >2012</th>\n",
       "      <th id=\"T_ccb22_level0_col3\" class=\"col_heading level0 col3\" >averageFSI</th>\n",
       "      <th id=\"T_ccb22_level0_col4\" class=\"col_heading level0 col4\" >Rank</th>\n",
       "      <th id=\"T_ccb22_level0_col5\" class=\"col_heading level0 col5\" >region</th>\n",
       "    </tr>\n",
       "  </thead>\n",
       "  <tbody>\n",
       "    <tr>\n",
       "      <th id=\"T_ccb22_level0_row0\" class=\"row_heading level0 row0\" >103</th>\n",
       "      <td id=\"T_ccb22_row0_col0\" class=\"data row0 col0\" >Congo (Dem. Rep.)</td>\n",
       "      <td id=\"T_ccb22_row0_col1\" class=\"data row0 col1\" >43.000000</td>\n",
       "      <td id=\"T_ccb22_row0_col2\" class=\"data row0 col2\" >33.700000</td>\n",
       "      <td id=\"T_ccb22_row0_col3\" class=\"data row0 col3\" >41.930000</td>\n",
       "      <td id=\"T_ccb22_row0_col4\" class=\"data row0 col4\" >104</td>\n",
       "      <td id=\"T_ccb22_row0_col5\" class=\"data row0 col5\" >Africa</td>\n",
       "    </tr>\n",
       "    <tr>\n",
       "      <th id=\"T_ccb22_level0_row1\" class=\"row_heading level0 row1\" >104</th>\n",
       "      <td id=\"T_ccb22_row1_col0\" class=\"data row1 col0\" >Sudan</td>\n",
       "      <td id=\"T_ccb22_row1_col1\" class=\"data row1 col1\" >42.800000</td>\n",
       "      <td id=\"T_ccb22_row1_col2\" class=\"data row1 col2\" >35.500000</td>\n",
       "      <td id=\"T_ccb22_row1_col3\" class=\"data row1 col3\" >38.980000</td>\n",
       "      <td id=\"T_ccb22_row1_col4\" class=\"data row1 col4\" >105</td>\n",
       "      <td id=\"T_ccb22_row1_col5\" class=\"data row1 col5\" >Africa</td>\n",
       "    </tr>\n",
       "    <tr>\n",
       "      <th id=\"T_ccb22_level0_row2\" class=\"row_heading level0 row2\" >105</th>\n",
       "      <td id=\"T_ccb22_row2_col0\" class=\"data row2 col0\" >Venezuela</td>\n",
       "      <td id=\"T_ccb22_row2_col1\" class=\"data row2 col1\" >42.600000</td>\n",
       "      <td id=\"T_ccb22_row2_col2\" class=\"data row2 col2\" >47.500000</td>\n",
       "      <td id=\"T_ccb22_row2_col3\" class=\"data row2 col3\" >46.710000</td>\n",
       "      <td id=\"T_ccb22_row2_col4\" class=\"data row2 col4\" >106</td>\n",
       "      <td id=\"T_ccb22_row2_col5\" class=\"data row2 col5\" >Americas</td>\n",
       "    </tr>\n",
       "    <tr>\n",
       "      <th id=\"T_ccb22_level0_row3\" class=\"row_heading level0 row3\" >106</th>\n",
       "      <td id=\"T_ccb22_row3_col0\" class=\"data row3 col0\" >Nigeria</td>\n",
       "      <td id=\"T_ccb22_row3_col1\" class=\"data row3 col1\" >42.000000</td>\n",
       "      <td id=\"T_ccb22_row3_col2\" class=\"data row3 col2\" >42.900000</td>\n",
       "      <td id=\"T_ccb22_row3_col3\" class=\"data row3 col3\" >45.530000</td>\n",
       "      <td id=\"T_ccb22_row3_col4\" class=\"data row3 col4\" >107</td>\n",
       "      <td id=\"T_ccb22_row3_col5\" class=\"data row3 col5\" >Africa</td>\n",
       "    </tr>\n",
       "    <tr>\n",
       "      <th id=\"T_ccb22_level0_row4\" class=\"row_heading level0 row4\" >107</th>\n",
       "      <td id=\"T_ccb22_row4_col0\" class=\"data row4 col0\" >Burundi</td>\n",
       "      <td id=\"T_ccb22_row4_col1\" class=\"data row4 col1\" >40.600000</td>\n",
       "      <td id=\"T_ccb22_row4_col2\" class=\"data row4 col2\" >42.000000</td>\n",
       "      <td id=\"T_ccb22_row4_col3\" class=\"data row4 col3\" >40.430000</td>\n",
       "      <td id=\"T_ccb22_row4_col4\" class=\"data row4 col4\" >108</td>\n",
       "      <td id=\"T_ccb22_row4_col5\" class=\"data row4 col5\" >Africa</td>\n",
       "    </tr>\n",
       "    <tr>\n",
       "      <th id=\"T_ccb22_level0_row5\" class=\"row_heading level0 row5\" >108</th>\n",
       "      <td id=\"T_ccb22_row5_col0\" class=\"data row5 col0\" >Madagascar</td>\n",
       "      <td id=\"T_ccb22_row5_col1\" class=\"data row5 col1\" >40.600000</td>\n",
       "      <td id=\"T_ccb22_row5_col2\" class=\"data row5 col2\" >39.400000</td>\n",
       "      <td id=\"T_ccb22_row5_col3\" class=\"data row5 col3\" >40.090000</td>\n",
       "      <td id=\"T_ccb22_row5_col4\" class=\"data row5 col4\" >108</td>\n",
       "      <td id=\"T_ccb22_row5_col5\" class=\"data row5 col5\" >Africa</td>\n",
       "    </tr>\n",
       "    <tr>\n",
       "      <th id=\"T_ccb22_level0_row6\" class=\"row_heading level0 row6\" >109</th>\n",
       "      <td id=\"T_ccb22_row6_col0\" class=\"data row6 col0\" >Sierra Leone</td>\n",
       "      <td id=\"T_ccb22_row6_col1\" class=\"data row6 col1\" >40.500000</td>\n",
       "      <td id=\"T_ccb22_row6_col2\" class=\"data row6 col2\" >41.500000</td>\n",
       "      <td id=\"T_ccb22_row6_col3\" class=\"data row6 col3\" >44.000000</td>\n",
       "      <td id=\"T_ccb22_row6_col4\" class=\"data row6 col4\" >110</td>\n",
       "      <td id=\"T_ccb22_row6_col5\" class=\"data row6 col5\" >Africa</td>\n",
       "    </tr>\n",
       "    <tr>\n",
       "      <th id=\"T_ccb22_level0_row7\" class=\"row_heading level0 row7\" >110</th>\n",
       "      <td id=\"T_ccb22_row7_col0\" class=\"data row7 col0\" >Yemen</td>\n",
       "      <td id=\"T_ccb22_row7_col1\" class=\"data row7 col1\" >40.100000</td>\n",
       "      <td id=\"T_ccb22_row7_col2\" class=\"data row7 col2\" >40.000000</td>\n",
       "      <td id=\"T_ccb22_row7_col3\" class=\"data row7 col3\" >40.940000</td>\n",
       "      <td id=\"T_ccb22_row7_col4\" class=\"data row7 col4\" >111</td>\n",
       "      <td id=\"T_ccb22_row7_col5\" class=\"data row7 col5\" >Asia</td>\n",
       "    </tr>\n",
       "    <tr>\n",
       "      <th id=\"T_ccb22_level0_row8\" class=\"row_heading level0 row8\" >111</th>\n",
       "      <td id=\"T_ccb22_row8_col0\" class=\"data row8 col0\" >Haiti</td>\n",
       "      <td id=\"T_ccb22_row8_col1\" class=\"data row8 col1\" >38.500000</td>\n",
       "      <td id=\"T_ccb22_row8_col2\" class=\"data row8 col2\" >43.900000</td>\n",
       "      <td id=\"T_ccb22_row8_col3\" class=\"data row8 col3\" >42.160000</td>\n",
       "      <td id=\"T_ccb22_row8_col4\" class=\"data row8 col4\" >112</td>\n",
       "      <td id=\"T_ccb22_row8_col5\" class=\"data row8 col5\" >Americas</td>\n",
       "    </tr>\n",
       "    <tr>\n",
       "      <th id=\"T_ccb22_level0_row9\" class=\"row_heading level0 row9\" >112</th>\n",
       "      <td id=\"T_ccb22_row9_col0\" class=\"data row9 col0\" >Syria</td>\n",
       "      <td id=\"T_ccb22_row9_col1\" class=\"data row9 col1\" >36.300000</td>\n",
       "      <td id=\"T_ccb22_row9_col2\" class=\"data row9 col2\" >46.800000</td>\n",
       "      <td id=\"T_ccb22_row9_col3\" class=\"data row9 col3\" >40.030000</td>\n",
       "      <td id=\"T_ccb22_row9_col4\" class=\"data row9 col4\" >113</td>\n",
       "      <td id=\"T_ccb22_row9_col5\" class=\"data row9 col5\" >Asia</td>\n",
       "    </tr>\n",
       "  </tbody>\n",
       "</table>\n"
      ],
      "text/plain": [
       "<pandas.io.formats.style.Styler at 0x1af235eae10>"
      ]
     },
     "execution_count": 165,
     "metadata": {},
     "output_type": "execute_result"
    }
   ],
   "source": [
    "df_fsi_top20[df_fsi_top20[\"Rank\"] > 100].style.pipe(make_pretty2).bar(subset = ['2022','2012'], color =\"lightgreen\")"
   ]
  },
  {
   "cell_type": "code",
   "execution_count": 152,
   "metadata": {},
   "outputs": [
    {
     "name": "stderr",
     "output_type": "stream",
     "text": [
      "No artists with labels found to put in legend.  Note that artists whose label start with an underscore are ignored when legend() is called with no argument.\n"
     ]
    },
    {
     "data": {
      "image/png": "[encoded data removed]",
      "text/plain": [
       "<Figure size 640x480 with 1 Axes>"
      ]
     },
     "metadata": {},
     "output_type": "display_data"
    }
   ],
   "source": [
    "fig, ax = plt.subplots()\n",
    "\n",
    "my_colors = [(x/60.0, x/40.0, 0.75) for x in range(len(df_fsi_top20))]\n",
    "ax.barh(df_fsi_top20[\"Name\"], df_fsi_top20[\"averageFSI\"], color=my_colors)\n",
    "ax.set_ylabel('FSI')\n",
    "ax.set_title('FSI for top 10 highest and lowest Countries')\n",
    "ax.legend(title='Food Safety Index')\n",
    "plt.show()"
   ]
  },
  {
   "cell_type": "code",
   "execution_count": 186,
   "metadata": {},
   "outputs": [
    {
     "name": "stderr",
     "output_type": "stream",
     "text": [
      "C:\\Users\\lesli\\AppData\\Local\\Temp\\ipykernel_3576\\1639515546.py:1: FutureWarning:\n",
      "\n",
      "The default value of numeric_only in DataFrameGroupBy.mean is deprecated. In a future version, numeric_only will default to False. Either specify numeric_only or select only columns which should be valid for the function.\n",
      "\n"
     ]
    },
    {
     "data": {
      "text/html": [
       "<div>\n",
       "<style scoped>\n",
       "    .dataframe tbody tr th:only-of-type {\n",
       "        vertical-align: middle;\n",
       "    }\n",
       "\n",
       "    .dataframe tbody tr th {\n",
       "        vertical-align: top;\n",
       "    }\n",
       "\n",
       "    .dataframe thead th {\n",
       "        text-align: right;\n",
       "    }\n",
       "</style>\n",
       "<table border=\"1\" class=\"dataframe\">\n",
       "  <thead>\n",
       "    <tr style=\"text-align: right;\">\n",
       "      <th></th>\n",
       "      <th>COUNTRY_ID</th>\n",
       "      <th>Rank</th>\n",
       "      <th>2012</th>\n",
       "      <th>2013</th>\n",
       "      <th>2014</th>\n",
       "      <th>2015</th>\n",
       "      <th>2016</th>\n",
       "      <th>2017</th>\n",
       "      <th>2018</th>\n",
       "      <th>2019</th>\n",
       "      <th>2020</th>\n",
       "      <th>2021</th>\n",
       "      <th>2022</th>\n",
       "      <th>Change</th>\n",
       "      <th>country-code</th>\n",
       "      <th>region-code</th>\n",
       "      <th>sub-region-code</th>\n",
       "      <th>intermediate-region-code</th>\n",
       "      <th>Unnamed: 11</th>\n",
       "      <th>averageFSI</th>\n",
       "    </tr>\n",
       "    <tr>\n",
       "      <th>region</th>\n",
       "      <th></th>\n",
       "      <th></th>\n",
       "      <th></th>\n",
       "      <th></th>\n",
       "      <th></th>\n",
       "      <th></th>\n",
       "      <th></th>\n",
       "      <th></th>\n",
       "      <th></th>\n",
       "      <th></th>\n",
       "      <th></th>\n",
       "      <th></th>\n",
       "      <th></th>\n",
       "      <th></th>\n",
       "      <th></th>\n",
       "      <th></th>\n",
       "      <th></th>\n",
       "      <th></th>\n",
       "      <th></th>\n",
       "      <th></th>\n",
       "    </tr>\n",
       "  </thead>\n",
       "  <tbody>\n",
       "    <tr>\n",
       "      <th>Africa</th>\n",
       "      <td>54.967742</td>\n",
       "      <td>90.967742</td>\n",
       "      <td>43.767742</td>\n",
       "      <td>44.506452</td>\n",
       "      <td>46.329032</td>\n",
       "      <td>47.609677</td>\n",
       "      <td>47.609677</td>\n",
       "      <td>47.661290</td>\n",
       "      <td>47.774194</td>\n",
       "      <td>49.112903</td>\n",
       "      <td>49.590323</td>\n",
       "      <td>49.277419</td>\n",
       "      <td>48.664516</td>\n",
       "      <td>-0.612903</td>\n",
       "      <td>478.903226</td>\n",
       "      <td>2.0</td>\n",
       "      <td>171.838710</td>\n",
       "      <td>13.615385</td>\n",
       "      <td>NaN</td>\n",
       "      <td>47.813548</td>\n",
       "    </tr>\n",
       "    <tr>\n",
       "      <th>Americas</th>\n",
       "      <td>48.285714</td>\n",
       "      <td>51.190476</td>\n",
       "      <td>60.090476</td>\n",
       "      <td>62.123810</td>\n",
       "      <td>62.952381</td>\n",
       "      <td>63.366667</td>\n",
       "      <td>64.304762</td>\n",
       "      <td>65.119048</td>\n",
       "      <td>66.295238</td>\n",
       "      <td>66.038095</td>\n",
       "      <td>65.823810</td>\n",
       "      <td>65.447619</td>\n",
       "      <td>64.800000</td>\n",
       "      <td>-0.647619</td>\n",
       "      <td>373.952381</td>\n",
       "      <td>19.0</td>\n",
       "      <td>381.095238</td>\n",
       "      <td>10.473684</td>\n",
       "      <td>NaN</td>\n",
       "      <td>64.627143</td>\n",
       "    </tr>\n",
       "    <tr>\n",
       "      <th>Asia</th>\n",
       "      <td>66.531250</td>\n",
       "      <td>56.312500</td>\n",
       "      <td>56.425000</td>\n",
       "      <td>58.153125</td>\n",
       "      <td>59.193750</td>\n",
       "      <td>60.109375</td>\n",
       "      <td>60.825000</td>\n",
       "      <td>61.487500</td>\n",
       "      <td>62.643750</td>\n",
       "      <td>62.931250</td>\n",
       "      <td>62.459375</td>\n",
       "      <td>62.159375</td>\n",
       "      <td>62.843750</td>\n",
       "      <td>0.684375</td>\n",
       "      <td>474.750000</td>\n",
       "      <td>142.0</td>\n",
       "      <td>85.750000</td>\n",
       "      <td>NaN</td>\n",
       "      <td>NaN</td>\n",
       "      <td>61.280625</td>\n",
       "    </tr>\n",
       "    <tr>\n",
       "      <th>Europe</th>\n",
       "      <td>57.576923</td>\n",
       "      <td>23.192308</td>\n",
       "      <td>70.015385</td>\n",
       "      <td>70.826923</td>\n",
       "      <td>71.969231</td>\n",
       "      <td>73.053846</td>\n",
       "      <td>73.519231</td>\n",
       "      <td>74.707692</td>\n",
       "      <td>74.711538</td>\n",
       "      <td>75.084615</td>\n",
       "      <td>75.111538</td>\n",
       "      <td>74.573077</td>\n",
       "      <td>74.757692</td>\n",
       "      <td>0.184615</td>\n",
       "      <td>452.730769</td>\n",
       "      <td>150.0</td>\n",
       "      <td>131.076923</td>\n",
       "      <td>NaN</td>\n",
       "      <td>NaN</td>\n",
       "      <td>73.831538</td>\n",
       "    </tr>\n",
       "    <tr>\n",
       "      <th>Oceania</th>\n",
       "      <td>35.000000</td>\n",
       "      <td>18.000000</td>\n",
       "      <td>71.700000</td>\n",
       "      <td>74.000000</td>\n",
       "      <td>76.150000</td>\n",
       "      <td>75.250000</td>\n",
       "      <td>76.400000</td>\n",
       "      <td>77.050000</td>\n",
       "      <td>77.050000</td>\n",
       "      <td>76.650000</td>\n",
       "      <td>75.850000</td>\n",
       "      <td>74.050000</td>\n",
       "      <td>76.600000</td>\n",
       "      <td>2.550000</td>\n",
       "      <td>295.000000</td>\n",
       "      <td>9.0</td>\n",
       "      <td>53.000000</td>\n",
       "      <td>NaN</td>\n",
       "      <td>NaN</td>\n",
       "      <td>75.905000</td>\n",
       "    </tr>\n",
       "  </tbody>\n",
       "</table>\n",
       "</div>"
      ],
      "text/plain": [
       "          COUNTRY_ID       Rank       2012       2013       2014       2015  \\\n",
       "region                                                                        \n",
       "Africa     54.967742  90.967742  43.767742  44.506452  46.329032  47.609677   \n",
       "Americas   48.285714  51.190476  60.090476  62.123810  62.952381  63.366667   \n",
       "Asia       66.531250  56.312500  56.425000  58.153125  59.193750  60.109375   \n",
       "Europe     57.576923  23.192308  70.015385  70.826923  71.969231  73.053846   \n",
       "Oceania    35.000000  18.000000  71.700000  74.000000  76.150000  75.250000   \n",
       "\n",
       "               2016       2017       2018       2019       2020       2021  \\\n",
       "region                                                                       \n",
       "Africa    47.609677  47.661290  47.774194  49.112903  49.590323  49.277419   \n",
       "Americas  64.304762  65.119048  66.295238  66.038095  65.823810  65.447619   \n",
       "Asia      60.825000  61.487500  62.643750  62.931250  62.459375  62.159375   \n",
       "Europe    73.519231  74.707692  74.711538  75.084615  75.111538  74.573077   \n",
       "Oceania   76.400000  77.050000  77.050000  76.650000  75.850000  74.050000   \n",
       "\n",
       "               2022    Change  country-code  region-code  sub-region-code  \\\n",
       "region                                                                      \n",
       "Africa    48.664516 -0.612903    478.903226          2.0       171.838710   \n",
       "Americas  64.800000 -0.647619    373.952381         19.0       381.095238   \n",
       "Asia      62.843750  0.684375    474.750000        142.0        85.750000   \n",
       "Europe    74.757692  0.184615    452.730769        150.0       131.076923   \n",
       "Oceania   76.600000  2.550000    295.000000          9.0        53.000000   \n",
       "\n",
       "          intermediate-region-code  Unnamed: 11  averageFSI  \n",
       "region                                                       \n",
       "Africa                   13.615385          NaN   47.813548  \n",
       "Americas                 10.473684          NaN   64.627143  \n",
       "Asia                           NaN          NaN   61.280625  \n",
       "Europe                         NaN          NaN   73.831538  \n",
       "Oceania                        NaN          NaN   75.905000  "
      ]
     },
     "execution_count": 186,
     "metadata": {},
     "output_type": "execute_result"
    }
   ],
   "source": [
    "df_by_region = df_food_safety.groupby(\"region\").mean()\n",
    "df_by_region"
   ]
  },
  {
   "cell_type": "code",
   "execution_count": 190,
   "metadata": {},
   "outputs": [
    {
     "name": "stderr",
     "output_type": "stream",
     "text": [
      "No artists with labels found to put in legend.  Note that artists whose label start with an underscore are ignored when legend() is called with no argument.\n"
     ]
    },
    {
     "data": {
      "image/png": "[encoded data removed]",
      "text/plain": [
       "<Figure size 640x480 with 1 Axes>"
      ]
     },
     "metadata": {},
     "output_type": "display_data"
    }
   ],
   "source": [
    "fig, ax = plt.subplots()\n",
    "my_colors = [(x/10.0, x/5.0, 0.2) for x in range(len(df_fsi_top20))]\n",
    "ax.bar(df_by_region.index, df_by_region[\"averageFSI\"], color=my_colors)\n",
    "ax.set_ylabel('FSI')\n",
    "ax.set_title('FSI by Region')\n",
    "ax.legend(title='Food Safety Index By Region')\n",
    "plt.show()\n",
    " "
   ]
  },
  {
   "cell_type": "code",
   "execution_count": 218,
   "metadata": {},
   "outputs": [
    {
     "data": {
      "image/png": "[encoded data removed]",
      "text/plain": [
       "<Figure size 640x480 with 1 Axes>"
      ]
     },
     "metadata": {},
     "output_type": "display_data"
    }
   ],
   "source": [
    "sns.lineplot(data=df_by_region.iloc[:,3:13], markers=True)\n",
    "sns.title =\" FSI By Region along the Years\""
   ]
  },
  {
   "cell_type": "code",
   "execution_count": null,
   "metadata": {},
   "outputs": [],
   "source": []
  }
 ],
 "metadata": {
  "kernelspec": {
   "display_name": ".venv",
   "language": "python",
   "name": "python3"
  },
  "language_info": {
   "codemirror_mode": {
    "name": "ipython",
    "version": 3
   },
   "file_extension": ".py",
   "mimetype": "text/x-python",
   "name": "python",
   "nbconvert_exporter": "python",
   "pygments_lexer": "ipython3",
   "version": "3.11.1"
  }
 },
 "nbformat": 4,
 "nbformat_minor": 2
}
